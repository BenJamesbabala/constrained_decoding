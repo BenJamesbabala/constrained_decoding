{
 "cells": [
  {
   "cell_type": "code",
   "execution_count": 1,
   "metadata": {
    "collapsed": true
   },
   "outputs": [],
   "source": [
    "# This is a sketch of the constrained decoding algorithm by Hokamp & Liu"
   ]
  },
  {
   "cell_type": "code",
   "execution_count": 2,
   "metadata": {
    "collapsed": true
   },
   "outputs": [],
   "source": [
    "import numpy as np\n",
    "from sortedcontainers import SortedListWithKey"
   ]
  },
  {
   "cell_type": "code",
   "execution_count": 3,
   "metadata": {
    "collapsed": true
   },
   "outputs": [],
   "source": [
    "# imagine a max_source_len x constraint_len+1 grid\n",
    "# at the top left corner, there is a triangle with constraint_len-1 sides cut out\n",
    "# at the bottom right corner, there is a triangle with constraint_len sides cut out\n",
    "\n",
    "# we move to the right, filling the beams in each column starting with the bottommost, and moving upwards\n",
    "#        - filling the beams in a column can be done in parallel, since there are no dependencies within the column\n",
    "\n",
    "# the horizontal (t) axis represents time\n",
    "#     - every hypothesis in a column t has the same number of tokens\n",
    "# the vertical axis (j) represents coverage of constraints\n",
    "#     - every hypothesis in a row j covers the same number of constraint tokens\n",
    "\n",
    "# FILLING CELL (i,j)\n",
    "# there are two source beams from which we can generate hypotheses:\n",
    "# LEFT (cell (i-1, j))\n",
    "#    - this cell can only generate \n",
    "# BELOW+LEFT (cell (i-1, j-1))\n",
    "#    - this cell can add constraints in two ways:\n",
    "#      (1) constraints which are unfinished _MUST_ be continued\n",
    "#      (2) new constraints can be started\n",
    "#    - hypotheses from this beam always update the constraint coverage\n",
    "\n",
    "# Generating constraint hypotheses\n",
    "# the hypothesis object holds all of the states needed to generate the n-best continuations at the next timestep\n"
   ]
  },
  {
   "cell_type": "code",
   "execution_count": 4,
   "metadata": {
    "collapsed": true
   },
   "outputs": [],
   "source": [
    "# NOTES:\n",
    "# without a special feature, generating a word and using the same word from a constraint have the same score,\n",
    "# thus we need a way to decide whether we are generating a word, or starting a new constraint which begins with \n",
    "# that word\n",
    "# - the constraint pointer model is one way of scoring hypotheses from the different sources differently"
   ]
  },
  {
   "cell_type": "code",
   "execution_count": 5,
   "metadata": {
    "collapsed": true
   },
   "outputs": [],
   "source": [
    "vocabulary = [0,1,2,3,4,5,6,7,8,9]\n",
    "\n",
    "sample_constraints = [\n",
    "    [1,2],\n",
    "    [5,6,7]\n",
    "]\n",
    "\n"
   ]
  },
  {
   "cell_type": "code",
   "execution_count": null,
   "metadata": {
    "collapsed": true
   },
   "outputs": [],
   "source": [
    "# Thinking buffer\n",
    "def init_coverage(self, constraints):\n",
    "    coverage = []\n",
    "    for c in constraints:\n",
    "        coverage.append(np.zeros(len(c), dtype='int16'))\n",
    "    return coverage"
   ]
  },
  {
   "cell_type": "code",
   "execution_count": null,
   "metadata": {
    "collapsed": true
   },
   "outputs": [],
   "source": [
    "class ConstraintHypothesis:\n",
    "    \"\"\"A (partial) hypothesis which maintains an additional constraint coverage object\n",
    "    \n",
    "    Args:\n",
    "        token (unicode): the surface form of this hypothesis\n",
    "        score (float): the score of this hypothesis (higher is better)\n",
    "        coverage (list of lists): a representation of the area of the constraints covered by this hypothesis\n",
    "        constraints (list of lists): the constraints that may be used with this hypothesis\n",
    "        payload (:obj:): additional data that comes with this hypothesis. Functions may \n",
    "            require certain data to be present in the payload, such as the previous states, glimpses, etc...\n",
    "        backpointer (:obj:`ConstraintHypothesis`): a pointer to the hypothesis object which generated this one\n",
    "        unfinished_constraint (bool): a flag which indicates whether this hyp is inside an unfinished constraint\n",
    "    \n",
    "    \"\"\"\n",
    "    \n",
    "    def __init__(self, token, score, coverage, constraints, payload=None, backpointer=None,\n",
    "                 unfinished_constraint=False):\n",
    "        self.token = token\n",
    "        self.score = score\n",
    "        self.coverage = coverage\n",
    "        self.constraints = constraints\n",
    "        self.backpointer = backpointer\n",
    "        self.payload = payload\n",
    "        self.unfinished_constraint = unfinished_constraint\n",
    "        \n",
    "        \n",
    "        \n",
    "            \n",
    "class AbstractBeam():\n",
    "    \n",
    "    def __init__(self, size):\n",
    "        # note: here we assume bigger scores are better\n",
    "        self.hypotheses = SortedListWithKey(key=lambda x: -x['score'])\n",
    "        self.size = size\n",
    "    \n",
    "    def add(self, hyp):\n",
    "        self.hypotheses.add(hyp)\n",
    "        if len(self.hypotheses) > self.size:\n",
    "            assert len(self.hypotheses) == self.size + 1\n",
    "            del self.hypotheses[-1]\n",
    "    \n",
    "    def __len__(self):\n",
    "        return len(self.hypotheses)\n",
    "    \n",
    "    def __iter__(self):\n",
    "        for hyp in self.hypotheses:\n",
    "            yield hyp\n",
    "        \n",
    "\n"
   ]
  },
  {
   "cell_type": "code",
   "execution_count": null,
   "metadata": {
    "collapsed": true
   },
   "outputs": [],
   "source": [
    "def get_generation_hyps(beam, hyp_generation_func):\n",
    "    \"\"\"return all hyps which are continuations of the hyps on this beam\n",
    "    \n",
    "    hyp_generation_func maps `(hyp) --> continuations`\n",
    "    \n",
    "    the coverage vector of the parent hyp is not modified in each child\n",
    "    \"\"\"\n",
    "    \n",
    "    continuations = (hyp_generation_func(hyp) for hyp in beam if not hyp.unfinished_constraint)\n",
    "    \n",
    "    # flatten\n",
    "    return (new_hyp for hyp_list in continuations for new_hyp in hyp_list)\n",
    "\n",
    "        \n",
    "def get_new_constraint_hyps(beam, constraints, constraint_hyp_func):\n",
    "    \"\"\"return all hyps which start a new constraint from the hyps on this beam\n",
    "    \n",
    "    constraint_hyp_func maps `(hyp, constraints) --> continuations`\n",
    "    \n",
    "    the coverage vector of the parent hyp is modified in each child\n",
    "    \"\"\"\n",
    "    \n",
    "    continuations = (constraint_hyp_func(hyp, constraints)\n",
    "                     for hyp in beam if not hyp.unfinished_constraint)\n",
    "    \n",
    "    # flatten\n",
    "    return (new_hyp for hyp_list in continuations for new_hyp in hyp_list)\n",
    "\n",
    "\n",
    "def get_continued_constraint_hyps(beam, constraints, constraint_hyp_func):\n",
    "    \"\"\"return all hyps which continue the unfinished constraints on this beam\n",
    "    \n",
    "    constraint_hyp_func maps `(hyp, constraints) --> forced_continuations`\n",
    "    \n",
    "    the coverage vector of the parent hyp is modified in each child\n",
    "\n",
    "    \"\"\"\n",
    "    continuations = (constraint_hyp_func(hyp, constraints)\n",
    "                     for hyp in beam if hyp.unfinished_constraint)\n",
    "    \n",
    "    return (new_hyp for hyp_list in continuations for new_hyp in hyp_list)\n",
    "    "
   ]
  },
  {
   "cell_type": "code",
   "execution_count": null,
   "metadata": {
    "collapsed": true
   },
   "outputs": [],
   "source": [
    "# the implementations of the generate, start_constraint, and continue_constraint functions depend upon the decoder\n"
   ]
  },
  {
   "cell_type": "code",
   "execution_count": null,
   "metadata": {
    "collapsed": true
   },
   "outputs": [],
   "source": [
    "class Beam():\n",
    "    pass"
   ]
  },
  {
   "cell_type": "code",
   "execution_count": null,
   "metadata": {
    "collapsed": true
   },
   "outputs": [],
   "source": []
  }
 ],
 "metadata": {
  "kernelspec": {
   "display_name": "Python 2",
   "language": "python",
   "name": "python2"
  },
  "language_info": {
   "codemirror_mode": {
    "name": "ipython",
    "version": 2
   },
   "file_extension": ".py",
   "mimetype": "text/x-python",
   "name": "python",
   "nbconvert_exporter": "python",
   "pygments_lexer": "ipython2",
   "version": "2.7.12"
  }
 },
 "nbformat": 4,
 "nbformat_minor": 0
}
