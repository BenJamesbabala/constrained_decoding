{
 "cells": [
  {
   "cell_type": "code",
   "execution_count": 1,
   "metadata": {
    "collapsed": true
   },
   "outputs": [],
   "source": [
    "# Check Phrasal paper to see how they split the corpus\n",
    "# they only use en-fr from autodesk, not en-de"
   ]
  },
  {
   "cell_type": "code",
   "execution_count": 2,
   "metadata": {
    "collapsed": true
   },
   "outputs": [],
   "source": [
    "import bz2\n",
    "\n",
    "autodesk_file = '/media/1tb_drive/parallel_data/corpora/deu.mt.bz2'\n",
    "\n",
    "# according to the README there can be duplicates"
   ]
  },
  {
   "cell_type": "code",
   "execution_count": 3,
   "metadata": {
    "collapsed": true
   },
   "outputs": [],
   "source": [
    "with bz2.BZ2File(autodesk_file) as inp:\n",
    "    autodesk_rows = inp.read().strip().decode('utf8').split('\\n')\n",
    "    \n",
    "autodesk_rows_cols = [l.split(u'\\uf8ff') for l in autodesk_rows]"
   ]
  },
  {
   "cell_type": "code",
   "execution_count": 4,
   "metadata": {
    "collapsed": false
   },
   "outputs": [
    {
     "data": {
      "text/plain": [
       "11"
      ]
     },
     "execution_count": 4,
     "metadata": {},
     "output_type": "execute_result"
    }
   ],
   "source": [
    "len(autodesk_rows_cols[0])"
   ]
  },
  {
   "cell_type": "code",
   "execution_count": 5,
   "metadata": {
    "collapsed": false
   },
   "outputs": [
    {
     "data": {
      "text/plain": [
       "[u'The NVIDIA\\xae iray\\xae renderer now supports the NVIDIA\\xae Kepler chipset.',\n",
       " u'Die NVIDIA \\xae iray \\xae Renderer unterst\\xfctzt jetzt die NVIDIA \\xae Kepler Chipsatz.',\n",
       " u'Der NVIDIA\\xae iray\\xae-Renderer bietet nun Unterst\\xfctzung f\\xfcr den Chipsatz NVIDIA\\xae Kepler.',\n",
       " u'3DSMAX',\n",
       " u'2013',\n",
       " u'MT',\n",
       " u'0.000',\n",
       " u'36',\n",
       " u'',\n",
       " u'2012/11/13 00:13:54',\n",
       " u'\\u25ca\\xf7']"
      ]
     },
     "execution_count": 5,
     "metadata": {},
     "output_type": "execute_result"
    }
   ],
   "source": [
    "autodesk_rows_cols[0]"
   ]
  },
  {
   "cell_type": "code",
   "execution_count": 6,
   "metadata": {
    "collapsed": true
   },
   "outputs": [],
   "source": [
    "# columns according to README\n",
    "# 1) EN-US source segment\n",
    "# 2) target-language raw MT output (for .mt.bz2 files) or raw TM output (for .tm.bz2 files)\n",
    "# 3) final post-edited target-language segment\n",
    "# 4) Autodesk product code\n",
    "# 5) product release identifier\n",
    "# 6) translation type (FUZZY or MT)\n",
    "# 7) raw MT score from Moses (with unknown-word penalties discarded)\n",
    "# 8) TM fuzzy match score\n",
    "# 9) TMX-style XML-encapsulated placeholder content (<phs>…</phs>)\n",
    "# 10) entry creation date\n"
   ]
  },
  {
   "cell_type": "code",
   "execution_count": 7,
   "metadata": {
    "collapsed": false
   },
   "outputs": [],
   "source": [
    "raw_sources, raw_hyps, raw_refs, product_codes, release_identifiers, trans_types, mt_scores, fuzzy_matches, placeholders, creation_dates, _ = zip(*autodesk_rows_cols)"
   ]
  },
  {
   "cell_type": "code",
   "execution_count": 8,
   "metadata": {
    "collapsed": false
   },
   "outputs": [
    {
     "data": {
      "text/plain": [
       "124500"
      ]
     },
     "execution_count": 8,
     "metadata": {},
     "output_type": "execute_result"
    }
   ],
   "source": [
    "len(autodesk_rows_cols)"
   ]
  },
  {
   "cell_type": "code",
   "execution_count": 9,
   "metadata": {
    "collapsed": false
   },
   "outputs": [
    {
     "data": {
      "text/plain": [
       "124500"
      ]
     },
     "execution_count": 9,
     "metadata": {},
     "output_type": "execute_result"
    }
   ],
   "source": [
    "len(raw_sources)"
   ]
  },
  {
   "cell_type": "code",
   "execution_count": 10,
   "metadata": {
    "collapsed": true
   },
   "outputs": [],
   "source": [
    "from collections import OrderedDict"
   ]
  },
  {
   "cell_type": "code",
   "execution_count": 11,
   "metadata": {
    "collapsed": true
   },
   "outputs": [],
   "source": [
    "no_dups = OrderedDict(zip(raw_sources, raw_refs))"
   ]
  },
  {
   "cell_type": "code",
   "execution_count": 12,
   "metadata": {
    "collapsed": false
   },
   "outputs": [
    {
     "data": {
      "text/plain": [
       "108478"
      ]
     },
     "execution_count": 12,
     "metadata": {},
     "output_type": "execute_result"
    }
   ],
   "source": [
    "len(no_dups)"
   ]
  },
  {
   "cell_type": "code",
   "execution_count": 13,
   "metadata": {
    "collapsed": true
   },
   "outputs": [],
   "source": [
    "import random"
   ]
  },
  {
   "cell_type": "code",
   "execution_count": 14,
   "metadata": {
    "collapsed": true
   },
   "outputs": [],
   "source": [
    "src_refs = no_dups.items()\n",
    "random.seed(37)\n",
    "random.shuffle(src_refs)"
   ]
  },
  {
   "cell_type": "code",
   "execution_count": 15,
   "metadata": {
    "collapsed": false
   },
   "outputs": [],
   "source": [
    "train_src_refs = src_refs[:-1000]\n",
    "dev_src_refs = src_refs[-1000:]"
   ]
  },
  {
   "cell_type": "code",
   "execution_count": 16,
   "metadata": {
    "collapsed": true
   },
   "outputs": [],
   "source": [
    "train_sources, train_refs = zip(*train_src_refs)\n",
    "dev_sources, dev_refs = zip(*dev_src_refs)"
   ]
  },
  {
   "cell_type": "code",
   "execution_count": 17,
   "metadata": {
    "collapsed": false
   },
   "outputs": [
    {
     "data": {
      "text/plain": [
       "107478"
      ]
     },
     "execution_count": 17,
     "metadata": {},
     "output_type": "execute_result"
    }
   ],
   "source": [
    "len(train_sources)"
   ]
  },
  {
   "cell_type": "code",
   "execution_count": 18,
   "metadata": {
    "collapsed": true
   },
   "outputs": [],
   "source": [
    "# load big corpus, get noun chunks across the whole language, these are the general corpus frequency stats\n",
    "# we want to compare these freqs to the target domain to see what's actually a term"
   ]
  },
  {
   "cell_type": "code",
   "execution_count": 19,
   "metadata": {
    "collapsed": true
   },
   "outputs": [],
   "source": [
    "import spacy\n",
    "en_nlp = spacy.load('en')\n",
    "de_nlp = spacy.load('de')"
   ]
  },
  {
   "cell_type": "code",
   "execution_count": 20,
   "metadata": {
    "collapsed": true
   },
   "outputs": [],
   "source": [
    "en_doc = en_nlp(u'Hello, world. Here are two sentences.')"
   ]
  },
  {
   "cell_type": "code",
   "execution_count": 21,
   "metadata": {
    "collapsed": false
   },
   "outputs": [],
   "source": [
    "tc = [c for c in en_doc.noun_chunks]"
   ]
  },
  {
   "cell_type": "code",
   "execution_count": 22,
   "metadata": {
    "collapsed": true
   },
   "outputs": [],
   "source": [
    "c1 = tc[0]"
   ]
  },
  {
   "cell_type": "code",
   "execution_count": 23,
   "metadata": {
    "collapsed": false
   },
   "outputs": [
    {
     "data": {
      "text/plain": [
       "u'two sentences'"
      ]
     },
     "execution_count": 23,
     "metadata": {},
     "output_type": "execute_result"
    }
   ],
   "source": [
    "c1.orth_"
   ]
  },
  {
   "cell_type": "code",
   "execution_count": 24,
   "metadata": {
    "collapsed": false
   },
   "outputs": [
    {
     "name": "stdout",
     "output_type": "stream",
     "text": [
      "processed 0 segments\n",
      "processed 500 segments\n",
      "processed 1000 segments\n",
      "processed 1500 segments\n",
      "processed 2000 segments\n",
      "processed 2500 segments\n",
      "processed 3000 segments\n",
      "processed 3500 segments\n",
      "processed 4000 segments\n",
      "processed 4500 segments\n",
      "processed 5000 segments\n",
      "processed 5500 segments\n",
      "processed 6000 segments\n",
      "processed 6500 segments\n",
      "processed 7000 segments\n",
      "processed 7500 segments\n",
      "processed 8000 segments\n",
      "processed 8500 segments\n",
      "processed 9000 segments\n",
      "processed 9500 segments\n",
      "processed 10000 segments\n",
      "processed 10500 segments\n",
      "processed 11000 segments\n",
      "processed 11500 segments\n",
      "processed 12000 segments\n",
      "processed 12500 segments\n",
      "processed 13000 segments\n",
      "processed 13500 segments\n",
      "processed 14000 segments\n",
      "processed 14500 segments\n",
      "processed 15000 segments\n",
      "processed 15500 segments\n",
      "processed 16000 segments\n",
      "processed 16500 segments\n",
      "processed 17000 segments\n",
      "processed 17500 segments\n",
      "processed 18000 segments\n",
      "processed 18500 segments\n",
      "processed 19000 segments\n",
      "processed 19500 segments\n",
      "processed 20000 segments\n",
      "processed 20500 segments\n",
      "processed 21000 segments\n",
      "processed 21500 segments\n",
      "processed 22000 segments\n",
      "processed 22500 segments\n",
      "processed 23000 segments\n",
      "processed 23500 segments\n",
      "processed 24000 segments\n",
      "processed 24500 segments\n",
      "processed 25000 segments\n",
      "processed 25500 segments\n",
      "processed 26000 segments\n",
      "processed 26500 segments\n",
      "processed 27000 segments\n",
      "processed 27500 segments\n",
      "processed 28000 segments\n",
      "processed 28500 segments\n",
      "processed 29000 segments\n",
      "processed 29500 segments\n",
      "processed 30000 segments\n",
      "processed 30500 segments\n",
      "processed 31000 segments\n",
      "processed 31500 segments\n",
      "processed 32000 segments\n",
      "processed 32500 segments\n",
      "processed 33000 segments\n",
      "processed 33500 segments\n",
      "processed 34000 segments\n",
      "processed 34500 segments\n",
      "processed 35000 segments\n",
      "processed 35500 segments\n",
      "processed 36000 segments\n",
      "processed 36500 segments\n",
      "processed 37000 segments\n",
      "processed 37500 segments\n",
      "processed 38000 segments\n",
      "processed 38500 segments\n",
      "processed 39000 segments\n",
      "processed 39500 segments\n",
      "processed 40000 segments\n",
      "processed 40500 segments\n",
      "processed 41000 segments\n",
      "processed 41500 segments\n",
      "processed 42000 segments\n",
      "processed 42500 segments\n",
      "processed 43000 segments\n",
      "processed 43500 segments\n",
      "processed 44000 segments\n",
      "processed 44500 segments\n",
      "processed 45000 segments\n",
      "processed 45500 segments\n",
      "processed 46000 segments\n",
      "processed 46500 segments\n",
      "processed 47000 segments\n",
      "processed 47500 segments\n",
      "processed 48000 segments\n",
      "processed 48500 segments\n",
      "processed 49000 segments\n",
      "processed 49500 segments\n",
      "processed 50000 segments\n",
      "processed 50500 segments\n",
      "processed 51000 segments\n",
      "processed 51500 segments\n",
      "processed 52000 segments\n",
      "processed 52500 segments\n",
      "processed 53000 segments\n",
      "processed 53500 segments\n",
      "processed 54000 segments\n",
      "processed 54500 segments\n",
      "processed 55000 segments\n",
      "processed 55500 segments\n",
      "processed 56000 segments\n",
      "processed 56500 segments\n",
      "processed 57000 segments\n",
      "processed 57500 segments\n",
      "processed 58000 segments\n",
      "processed 58500 segments\n",
      "processed 59000 segments\n",
      "processed 59500 segments\n",
      "processed 60000 segments\n",
      "processed 60500 segments\n",
      "processed 61000 segments\n",
      "processed 61500 segments\n",
      "processed 62000 segments\n",
      "processed 62500 segments\n",
      "processed 63000 segments\n",
      "processed 63500 segments\n",
      "processed 64000 segments\n",
      "processed 64500 segments\n",
      "processed 65000 segments\n",
      "processed 65500 segments\n",
      "processed 66000 segments\n",
      "processed 66500 segments\n",
      "processed 67000 segments\n",
      "processed 67500 segments\n",
      "processed 68000 segments\n",
      "processed 68500 segments\n",
      "processed 69000 segments\n",
      "processed 69500 segments\n",
      "processed 70000 segments\n",
      "processed 70500 segments\n",
      "processed 71000 segments\n",
      "processed 71500 segments\n",
      "processed 72000 segments\n",
      "processed 72500 segments\n",
      "processed 73000 segments\n",
      "processed 73500 segments\n",
      "processed 74000 segments\n",
      "processed 74500 segments\n",
      "processed 75000 segments\n",
      "processed 75500 segments\n",
      "processed 76000 segments\n",
      "processed 76500 segments\n",
      "processed 77000 segments\n",
      "processed 77500 segments\n",
      "processed 78000 segments\n",
      "processed 78500 segments\n",
      "processed 79000 segments\n",
      "processed 79500 segments\n",
      "processed 80000 segments\n",
      "processed 80500 segments\n",
      "processed 81000 segments\n",
      "processed 81500 segments\n",
      "processed 82000 segments\n",
      "processed 82500 segments\n",
      "processed 83000 segments\n",
      "processed 83500 segments\n",
      "processed 84000 segments\n",
      "processed 84500 segments\n",
      "processed 85000 segments\n",
      "processed 85500 segments\n",
      "processed 86000 segments\n",
      "processed 86500 segments\n",
      "processed 87000 segments\n",
      "processed 87500 segments\n",
      "processed 88000 segments\n",
      "processed 88500 segments\n",
      "processed 89000 segments\n",
      "processed 89500 segments\n",
      "processed 90000 segments\n",
      "processed 90500 segments\n",
      "processed 91000 segments\n",
      "processed 91500 segments\n",
      "processed 92000 segments\n",
      "processed 92500 segments\n",
      "processed 93000 segments\n",
      "processed 93500 segments\n",
      "processed 94000 segments\n",
      "processed 94500 segments\n",
      "processed 95000 segments\n",
      "processed 95500 segments\n",
      "processed 96000 segments\n",
      "processed 96500 segments\n",
      "processed 97000 segments\n",
      "processed 97500 segments\n",
      "processed 98000 segments\n",
      "processed 98500 segments\n",
      "processed 99000 segments\n",
      "processed 99500 segments\n",
      "processed 100000 segments\n",
      "processed 100500 segments\n",
      "processed 101000 segments\n",
      "processed 101500 segments\n",
      "processed 102000 segments\n",
      "processed 102500 segments\n",
      "processed 103000 segments\n",
      "processed 103500 segments\n",
      "processed 104000 segments\n",
      "processed 104500 segments\n",
      "processed 105000 segments\n",
      "processed 105500 segments\n",
      "processed 106000 segments\n",
      "processed 106500 segments\n",
      "processed 107000 segments\n",
      "processed 0 segments\n",
      "processed 500 segments\n",
      "processed 1000 segments\n",
      "processed 1500 segments\n",
      "processed 2000 segments\n",
      "processed 2500 segments\n",
      "processed 3000 segments\n",
      "processed 3500 segments\n",
      "processed 4000 segments\n",
      "processed 4500 segments\n",
      "processed 5000 segments\n",
      "processed 5500 segments\n",
      "processed 6000 segments\n",
      "processed 6500 segments\n",
      "processed 7000 segments\n",
      "processed 7500 segments\n",
      "processed 8000 segments\n",
      "processed 8500 segments\n",
      "processed 9000 segments\n",
      "processed 9500 segments\n",
      "processed 10000 segments\n",
      "processed 10500 segments\n",
      "processed 11000 segments\n",
      "processed 11500 segments\n",
      "processed 12000 segments\n",
      "processed 12500 segments\n",
      "processed 13000 segments\n",
      "processed 13500 segments\n",
      "processed 14000 segments\n",
      "processed 14500 segments\n",
      "processed 15000 segments\n",
      "processed 15500 segments\n",
      "processed 16000 segments\n",
      "processed 16500 segments\n",
      "processed 17000 segments\n",
      "processed 17500 segments\n",
      "processed 18000 segments\n",
      "processed 18500 segments\n",
      "processed 19000 segments\n",
      "processed 19500 segments\n",
      "processed 20000 segments\n",
      "processed 20500 segments\n",
      "processed 21000 segments\n",
      "processed 21500 segments\n",
      "processed 22000 segments\n",
      "processed 22500 segments\n",
      "processed 23000 segments\n",
      "processed 23500 segments\n",
      "processed 24000 segments\n",
      "processed 24500 segments\n",
      "processed 25000 segments\n",
      "processed 25500 segments\n",
      "processed 26000 segments\n",
      "processed 26500 segments\n",
      "processed 27000 segments\n",
      "processed 27500 segments\n",
      "processed 28000 segments\n",
      "processed 28500 segments\n",
      "processed 29000 segments\n",
      "processed 29500 segments\n",
      "processed 30000 segments\n",
      "processed 30500 segments\n",
      "processed 31000 segments\n",
      "processed 31500 segments\n",
      "processed 32000 segments\n",
      "processed 32500 segments\n",
      "processed 33000 segments\n",
      "processed 33500 segments\n",
      "processed 34000 segments\n",
      "processed 34500 segments\n",
      "processed 35000 segments\n",
      "processed 35500 segments\n",
      "processed 36000 segments\n",
      "processed 36500 segments\n",
      "processed 37000 segments\n",
      "processed 37500 segments\n",
      "processed 38000 segments\n",
      "processed 38500 segments\n",
      "processed 39000 segments\n",
      "processed 39500 segments\n",
      "processed 40000 segments\n",
      "processed 40500 segments\n",
      "processed 41000 segments\n",
      "processed 41500 segments\n",
      "processed 42000 segments\n",
      "processed 42500 segments\n",
      "processed 43000 segments\n",
      "processed 43500 segments\n",
      "processed 44000 segments\n",
      "processed 44500 segments\n",
      "processed 45000 segments\n",
      "processed 45500 segments\n",
      "processed 46000 segments\n",
      "processed 46500 segments\n",
      "processed 47000 segments\n",
      "processed 47500 segments\n",
      "processed 48000 segments\n",
      "processed 48500 segments\n",
      "processed 49000 segments\n",
      "processed 49500 segments\n",
      "processed 50000 segments\n",
      "processed 50500 segments\n",
      "processed 51000 segments\n",
      "processed 51500 segments\n",
      "processed 52000 segments\n",
      "processed 52500 segments\n",
      "processed 53000 segments\n",
      "processed 53500 segments\n",
      "processed 54000 segments\n",
      "processed 54500 segments\n",
      "processed 55000 segments\n",
      "processed 55500 segments\n",
      "processed 56000 segments\n",
      "processed 56500 segments\n",
      "processed 57000 segments\n",
      "processed 57500 segments\n",
      "processed 58000 segments\n",
      "processed 58500 segments\n",
      "processed 59000 segments\n",
      "processed 59500 segments\n",
      "processed 60000 segments\n",
      "processed 60500 segments\n",
      "processed 61000 segments\n",
      "processed 61500 segments\n",
      "processed 62000 segments\n",
      "processed 62500 segments\n",
      "processed 63000 segments\n",
      "processed 63500 segments\n",
      "processed 64000 segments\n",
      "processed 64500 segments\n",
      "processed 65000 segments\n",
      "processed 65500 segments\n",
      "processed 66000 segments\n",
      "processed 66500 segments\n",
      "processed 67000 segments\n",
      "processed 67500 segments\n",
      "processed 68000 segments\n",
      "processed 68500 segments\n",
      "processed 69000 segments\n",
      "processed 69500 segments\n",
      "processed 70000 segments\n",
      "processed 70500 segments\n",
      "processed 71000 segments\n",
      "processed 71500 segments\n",
      "processed 72000 segments\n",
      "processed 72500 segments\n",
      "processed 73000 segments\n",
      "processed 73500 segments\n",
      "processed 74000 segments\n",
      "processed 74500 segments\n",
      "processed 75000 segments\n",
      "processed 75500 segments\n",
      "processed 76000 segments\n",
      "processed 76500 segments\n",
      "processed 77000 segments\n",
      "processed 77500 segments\n",
      "processed 78000 segments\n",
      "processed 78500 segments\n",
      "processed 79000 segments\n",
      "processed 79500 segments\n",
      "processed 80000 segments\n",
      "processed 80500 segments\n",
      "processed 81000 segments\n",
      "processed 81500 segments\n",
      "processed 82000 segments\n",
      "processed 82500 segments\n",
      "processed 83000 segments\n",
      "processed 83500 segments\n",
      "processed 84000 segments\n",
      "processed 84500 segments\n",
      "processed 85000 segments\n",
      "processed 85500 segments\n",
      "processed 86000 segments\n",
      "processed 86500 segments\n",
      "processed 87000 segments\n",
      "processed 87500 segments\n",
      "processed 88000 segments\n",
      "processed 88500 segments\n",
      "processed 89000 segments\n",
      "processed 89500 segments\n",
      "processed 90000 segments\n",
      "processed 90500 segments\n",
      "processed 91000 segments\n",
      "processed 91500 segments\n",
      "processed 92000 segments\n",
      "processed 92500 segments\n",
      "processed 93000 segments\n",
      "processed 93500 segments\n",
      "processed 94000 segments\n",
      "processed 94500 segments\n",
      "processed 95000 segments\n",
      "processed 95500 segments\n",
      "processed 96000 segments\n",
      "processed 96500 segments\n",
      "processed 97000 segments\n",
      "processed 97500 segments\n",
      "processed 98000 segments\n",
      "processed 98500 segments\n",
      "processed 99000 segments\n",
      "processed 99500 segments\n",
      "processed 100000 segments\n",
      "processed 100500 segments\n",
      "processed 101000 segments\n",
      "processed 101500 segments\n",
      "processed 102000 segments\n",
      "processed 102500 segments\n",
      "processed 103000 segments\n",
      "processed 103500 segments\n",
      "processed 104000 segments\n",
      "processed 104500 segments\n",
      "processed 105000 segments\n",
      "processed 105500 segments\n",
      "processed 106000 segments\n",
      "processed 106500 segments\n",
      "processed 107000 segments\n"
     ]
    }
   ],
   "source": [
    "\n",
    "# de_doc = de_nlp(u'ich bin ein Berliner.')\n",
    "\n",
    "source_chunks = []\n",
    "ref_chunks = []\n",
    "source_iter = (l for l in train_sources)\n",
    "ref_iter = (l for l in train_refs)\n",
    "\n",
    "for i, doc in enumerate(en_nlp.pipe(source_iter, batch_size=50, n_threads=10)):\n",
    "    source_chunks.append([c.orth_ for c in doc.noun_chunks])\n",
    "    if i % 500 == 0:\n",
    "        print('processed {} segments'.format(i))\n",
    "    \n",
    "for i, doc in enumerate(en_nlp.pipe(ref_iter, batch_size=50, n_threads=10)):\n",
    "    ref_chunks.append([c.orth_ for c in doc.noun_chunks])\n",
    "    if i % 500 == 0:\n",
    "        print('processed {} segments'.format(i))\n",
    "\n"
   ]
  },
  {
   "cell_type": "code",
   "execution_count": 25,
   "metadata": {
    "collapsed": true
   },
   "outputs": [],
   "source": [
    "from collections import defaultdict, Counter\n",
    "\n",
    "chunk_map = defaultdict(Counter)\n",
    "source_chunk_occs = Counter()\n",
    "target_chunk_occs = Counter()\n",
    "\n",
    "for src_chunks, trg_chunks in zip(source_chunks, ref_chunks):\n",
    "    for src_chunk in src_chunks:\n",
    "        chunk_map[src_chunk].update(trg_chunks)\n",
    "        \n",
    "    source_chunk_occs.update(src_chunks)\n",
    "    target_chunk_occs.update(trg_chunks)\n"
   ]
  },
  {
   "cell_type": "code",
   "execution_count": 27,
   "metadata": {
    "collapsed": false
   },
   "outputs": [],
   "source": [
    "assert len(source_chunks) == len(ref_chunks)"
   ]
  },
  {
   "cell_type": "code",
   "execution_count": 28,
   "metadata": {
    "collapsed": true
   },
   "outputs": [],
   "source": [
    "num_segments = float(len(source_chunks))\n",
    "\n",
    "src_priors = OrderedDict([(k, c / num_segments) for k,c in source_chunk_occs.most_common()])\n",
    "trg_priors = OrderedDict([(k, c / num_segments) for k,c in target_chunk_occs.most_common()])"
   ]
  },
  {
   "cell_type": "code",
   "execution_count": 32,
   "metadata": {
    "collapsed": false
   },
   "outputs": [],
   "source": [
    "src_posteriors = {}\n",
    "for src_chunk, trg_chunk_counter in chunk_map.items():\n",
    "    total_maps = float(sum(trg_chunk_counter.itervalues()))\n",
    "    posteriors = OrderedDict([(k, v / total_maps) for k, v in trg_chunk_counter.most_common()])\n",
    "    src_posteriors[src_chunk] = posteriors"
   ]
  },
  {
   "cell_type": "code",
   "execution_count": null,
   "metadata": {
    "collapsed": true
   },
   "outputs": [],
   "source": [
    "# terminology should be ranked by how frequent it is in the target domain vs how frequent it is generally"
   ]
  },
  {
   "cell_type": "code",
   "execution_count": 37,
   "metadata": {
    "collapsed": false
   },
   "outputs": [
    {
     "name": "stdout",
     "output_type": "stream",
     "text": [
      "CHUNK: the fluid, top 5: [(u'i', 0.07109004739336493), (u'das Fluid', 0.014218009478672985), (u'nichtnewtonschen Fluid wird', 0.014218009478672985), (u'Fluid', 0.009478672985781991), (u'das', 0.009478672985781991), (u'bei der das Fluid zu', 0.009478672985781991), (u'Gleichgewicht aufgrund der Schwerkraft', 0.009478672985781991), (u'ihrem Verlauf m\\xfcssen fein genug sein', 0.009478672985781991), (u'System', 0.009478672985781991), (u'Fluid aus\\xfcbt', 0.009478672985781991), (u'Bewegung', 0.009478672985781991), (u'ist', 0.009478672985781991), (u'W\\xe4rmeleitf\\xe4higkeit des Fluids', 0.009478672985781991), (u'und', 0.009478672985781991), (u'Interaktion zwischen Festk\\xf6rper', 0.009478672985781991), (u'Watt', 0.009478672985781991), (u'der', 0.009478672985781991), (u'Interaktion zwischen Festk\\xf6rper und dem Fluid angemessen darzustellen', 0.009478672985781991), (u'dass', 0.009478672985781991), (u'Dichte des Fluids', 0.009478672985781991), (u'Fluid vom Auslass bis zum Einlass', 0.009478672985781991), (u'1}Die Ausstattung erm\\xf6glicht', 0.004739336492890996), (u'dem Festk\\xf6rper gefangen ist', 0.004739336492890996), (u'Wenn das Ventil durch', 0.004739336492890996), (u'Druck', 0.004739336492890996), (u'der Str\\xf6mung', 0.004739336492890996), (u'vorgegebene Durchfluss kann als Randbedingung', 0.004739336492890996), (u'{1} f\\xfcr', 0.004739336492890996), (u'Grenzspannungsrate{1', 0.004739336492890996), (u'Das Netz', 0.004739336492890996), (u'Dies kennzeichnet', 0.004739336492890996), (u'Bei der ersten wird', 0.004739336492890996), (u'Berechnen Sie', 0.004739336492890996), (u'Ger\\xe4te wie Pumpen und L\\xfcfter \\xfcbertragen Energie auf', 0.004739336492890996), (u', wobei q{1}ri{2} der Nettow\\xe4rmestrom zum Fluid an Element i von der Strahlung von Oberfl\\xe4che zu Oberfl\\xe4che darstellt', 0.004739336492890996), (u'Festk\\xf6rper', 0.004739336492890996), (u'Festk\\xf6rper bewegen', 0.004739336492890996), (u'Bewegungsdefinition', 0.004739336492890996), (u'das Fluid von den Randbedingungen der W\\xe4rme\\xfcbertragung an der Wand aufgenommen hatte', 0.004739336492890996), (u'Grenzviskosit\\xe4t{1', 0.004739336492890996), (u'Mit nur einer Reihe von maskierten Fluidknoten kann nur', 0.004739336492890996), (u'an die W\\xe4nde abgegebene Restw\\xe4rme berechnet', 0.004739336492890996), (u'Energiemenge', 0.004739336492890996), (u'Fluidelemente', 0.004739336492890996), (u'Um dieser Situation zu begegnen', 0.004739336492890996), (u'1}Hydraulisches Drehmoment{2', 0.004739336492890996), (u'dem Fluid', 0.004739336492890996), (u'Die Umformungsgeschwindigkeit', 0.004739336492890996), (u'sodass', 0.004739336492890996), (u'W\\xe4hrend der Iterationen des Mehrphasen-Solvers', 0.004739336492890996)]\n",
      "CHUNK: the viewport, top 5: [(u'i', 0.140625), (u'Ansichtsfenster', 0.03125), (u'Ansichtsfenster angezeigt', 0.0234375), (u'Ansichtsfenster erstellen k\\xf6nnen', 0.01171875), (u'Ihrer Zeichnungsdatei', 0.01171875), (u'Schaltfl\\xe4che', 0.01171875), (u'geografischen Positionsdaten', 0.01171875), (u'Die Karte', 0.01171875), (u'der', 0.01171875), (u'anderen Zeichnungsobjekten i', 0.01171875), (u'Sie', 0.01171875), (u'verwendet', 0.01171875), (u'Steuerelement', 0.01171875), (u'Ansichtsfenster auf', 0.01171875), (u'Wenn Sie', 0.0078125), (u'Verwirbelung', 0.0078125), (u'das Ansichtsfenster', 0.0078125), (u'Dialogfeld', 0.0078125), (u'Klicken Sie auf', 0.0078125), (u'Szene', 0.0078125), (u'Ansichtsfensters', 0.0078125), (u'Ansichtsfenster aus', 0.0078125), (u'wenn Sie', 0.00390625), (u'Ansichtsfenster nicht unterst\\xfctzt und Streugewichtungs-Remap', 0.00390625), (u'Platte aus dem Ansichtsfenster als {1}Region{2}, {3}AS4-PEEK{4} als', 0.00390625), (u'Ansichtsfenster zeigen als', 0.00390625), (u'das Ansichtsfenster m\\xf6glicherweise mehrmals', 0.00390625), (u'sodass durch', 0.00390625), (u'der Befehlszeile eingeben', 0.00390625), (u'Erstellt einen Helfer', 0.00390625), (u'Randbedingung', 0.00390625), (u'Rendern auf ein', 0.00390625), (u'3D-Ansicht fest', 0.00390625), (u'Bei der Verwendung der Einbackoption wird das Ansichtsfenster m\\xf6glicherweise mehrmals neu gezeichnet, wenn Sie Frames nach dem Einbacken \\xe4ndern und dann auf R\\xfcckg\\xe4ngig klicken', 0.00390625), (u'Dies', 0.00390625), (u'verwendet wird', 0.00390625), (u'von der \\xc4nderung betroffen', 0.00390625), (u'Schaltfl\\xe4che {1}Datum CSYS List', 0.00390625), (u'das Ansichtsfenster eingepasst', 0.00390625), (u'auf', 0.00390625), (u'W\\xe4hlen Sie das Ansichtsfenster mit den Objekten aus', 0.00390625), (u'Reflexionen \\xe4ndern', 0.00390625), (u'es wird automatisch i', 0.00390625), (u'Anzeige im Ansichtsfenster anzupassen', 0.00390625), (u'Schwenken', 0.00390625), (u'Quelle der Bauteilliste auszuw\\xe4hlen', 0.00390625), (u'eine Datei rendern', 0.00390625), (u'als Bereich f\\xfcr', 0.00390625), (u'intuitive Auswahlwerkzeuge', 0.00390625), (u'sie', 0.00390625)]\n",
      "CHUNK: the amount, top 5: [(u'Dies', 0.030042918454935622), (u'der', 0.017167381974248927), (u'i', 0.017167381974248927), (u'zu', 0.012875536480686695), (u'ben\\xf6tigt wird', 0.012875536480686695), (u'Garn(en', 0.008583690987124463), (u'aus\\xfcbt', 0.008583690987124463), (u'das', 0.008583690987124463), (u') ist', 0.008583690987124463), (u'Materials', 0.008583690987124463), (u'dem Wachstum der', 0.008583690987124463), (u'der f\\xfcr', 0.008583690987124463), (u'F\\xe4llen', 0.008583690987124463), (u'Abaqus/Explicit-Analysen verwendet und gibt den Grad der Verst\\xe4rkung', 0.008583690987124463), (u'W\\xe4rmemenge', 0.008583690987124463), (u'das Drehmoment', 0.008583690987124463), (u'Wenn', 0.008583690987124463), (u'Energiemenge dar', 0.008583690987124463), (u'Menge', 0.008583690987124463), (u'thermische Energiebilanz und protokolliert diese sowie den Betrag der W\\xe4rme\\xfcbertragung aufgrund von W\\xe4rmestrahlung f\\xfcr', 0.004291845493562232), (u'enth\\xe4lt diese Zeile', 0.004291845493562232), (u'denen', 0.004291845493562232), (u'der Einlassstr\\xf6mung', 0.004291845493562232), (u'Es wird dadurch allerdings', 0.004291845493562232), (u'Das System kann', 0.004291845493562232), (u'Gases', 0.004291845493562232), (u'von den Ausl\\xe4ssen', 0.004291845493562232), (u'Daten genau', 0.004291845493562232), (u'Ende des Werkzeugs', 0.004291845493562232), (u'Verwaltung von Standard- und anderen Einstellungen sowie f\\xfcr Materialien erforderlich ist', 0.004291845493562232), (u'Grad des zul\\xe4ssigen', 0.004291845493562232), (u'dass Sie mit Abaqus/Explicit', 0.004291845493562232), (u'Strahlungsenergiebilanz zu verfolgen', 0.004291845493562232), (u'Menge der reflektierten Energie', 0.004291845493562232), (u'Dauer f\\xfcr das Hoch-', 0.004291845493562232), (u'vier notwendigen Parameter f\\xfcr', 0.004291845493562232), (u'Analyse nicht stabil ist', 0.004291845493562232), (u'Energiemenge', 0.004291845493562232), (u'Bereichen', 0.004291845493562232), (u'Detailgenauigkeit{1', 0.004291845493562232), (u'zu wissen', 0.004291845493562232), (u'Zu jedem Bauteil', 0.004291845493562232), (u'Auswirkungen auf dem Ger\\xe4t zu simulieren', 0.004291845493562232), (u'Gr\\xf6\\xdfe vieler der zu hochzuladenden und herunterzuladenden Dateien reduziert', 0.004291845493562232), (u'Karte', 0.004291845493562232), (u'Konsistenz zwischen Simulationen sichergestellt und der Zeitaufwand f\\xfcr das Setup nachfolgender Entwurfsiterationen reduziert', 0.004291845493562232), (u'Zeit-', 0.004291845493562232), (u'einer Geometrie kann der zur Berechnung', 0.004291845493562232), (u'wenn Str\\xf6mungs-', 0.004291845493562232), (u'Mit dieser Assoziativit\\xe4t', 0.004291845493562232)]\n",
      "CHUNK: Options, top 5: [(u'Dialogfeld Optionen', 0.19469026548672566), (u'Dialogfeld Optionen > Registerkarte SteeringWheels', 0.07079646017699115), (u'i', 0.05309734513274336), (u'Dialogfeld Optionen > Registerkarte Grafiken', 0.04424778761061947), (u'Optionen', 0.017699115044247787), (u'klicken Sie auf Optionen', 0.017699115044247787), (u'Zu den Optionen geh\\xf6ren', 0.017699115044247787), (u'Zu den Optionen', 0.017699115044247787), (u'Dialogfeld Optionen > Registerkarte Allgemein', 0.017699115044247787), (u'Registerkarte SteeringWheels', 0.017699115044247787), (u'oder Wechseln zwischen Profilen', 0.008849557522123894), (u'Schriftart', 0.008849557522123894), (u'Querprofilpl\\xe4nen verf\\xfcgbar', 0.008849557522123894), (u'Folgende Optionen sind verf\\xfcgbar', 0.008849557522123894), (u'Registerkarte Verzeichnisse > Standardpfad f\\xfcr Benutzerdateien', 0.008849557522123894), (u'Registerkarte Grafiken > Auswahl', 0.008849557522123894), (u'Treppenbalken', 0.008849557522123894), (u'Registerkarte Grafiken > Farben > Halbtransparent', 0.008849557522123894), (u'Visualisierungsdateien', 0.008849557522123894), (u'Stammpfad', 0.008849557522123894), (u'Konfiguration eines', 0.008849557522123894), (u'Verwaltung von Normalen und das Zusammenf\\xfchren von Scheitelpunkten und Fl\\xe4chen', 0.008849557522123894), (u'Suche', 0.008849557522123894), (u'\\xe4ndern', 0.008849557522123894), (u'Steuerung f\\xfcr jede Ansicht', 0.008849557522123894), (u'f\\xfcr', 0.008849557522123894), (u'Optionen f\\xfcr verschiedene Standorte', 0.008849557522123894), (u'Registerkarte Grafiken > Vorauswahl', 0.008849557522123894), (u'Textdarstellung f\\xfcr tempor\\xe4re Bema\\xdfung', 0.008849557522123894), (u'Planlistenteuerung', 0.008849557522123894), (u'Options aus', 0.008849557522123894), (u'Optionen f\\xfcr', 0.008849557522123894), (u'Dialogfeld Optionen > Registerkarte Allgemein > Protokolldatei bereinigen > dann Protokolle l\\xf6schen', 0.008849557522123894), (u'Linien', 0.008849557522123894), (u'Liste der Optionen f\\xfcr', 0.008849557522123894), (u'Optionen zum Hinzuf\\xfcgen', 0.008849557522123894), (u'Es sind Optionen f\\xfcr das', 0.008849557522123894), (u'Dialogfeld Optionen > Registerkarte Allgemein > Benachrichtigungen > Erinnerungsintervall - Mit Zentraldatei synchronisieren', 0.008849557522123894), (u'Verwaltung von Normalen', 0.008849557522123894), (u'werden', 0.008849557522123894), (u'Informationen zu Einstellungsoptionen', 0.008849557522123894), (u'oder F\\xfcr', 0.008849557522123894), (u'Handlauf', 0.008849557522123894), (u'Ansichten verwenden', 0.008849557522123894), (u'Hinzuf\\xfcgen oder Entfernen', 0.008849557522123894), (u'Hauptwerkzeugkasten auf Optionen', 0.008849557522123894), (u'L\\xf6schen von Stationen', 0.008849557522123894), (u'Dialogfeld Grafikdarstellungsoptionen zulassen', 0.008849557522123894), (u'Dialogfeld Optionen auf der Registerkarte Allgemein den Wert f\\xfcr Messgr\\xf6\\xdfe', 0.008849557522123894), (u'Registerkarte Verzeichnisse', 0.008849557522123894)]\n",
      "CHUNK: the edge, top 5: [(u'der', 0.03636363636363636), (u'an der', 0.02727272727272727), (u'W\\xe4hlen Sie', 0.01818181818181818), (u'Klicken Sie auf', 0.013636363636363636), (u'i', 0.013636363636363636), (u'Kante', 0.00909090909090909), (u'auf', 0.00909090909090909), (u'dass der Werkzeugrand', 0.00909090909090909), (u'Oberseite der Grundplatte', 0.00909090909090909), (u'oder', 0.00909090909090909), (u'Sie dann auf', 0.00909090909090909), (u'n\\xe4chsten liegt', 0.00909090909090909), (u'sicherzustellen', 0.00909090909090909), (u'w\\xe4hlen Sie', 0.00909090909090909), (u'I', 0.00909090909090909), (u'Ebene anzugeben', 0.00909090909090909), (u'Sie geklickt haben', 0.00909090909090909), (u'Mithilfe des Griffs', 0.00909090909090909), (u'Kante erneut ausw\\xe4hlen', 0.004545454545454545), (u', und w\\xe4hlen Sie', 0.004545454545454545), (u'der folgenden Abbildung dargestellte', 0.004545454545454545), (u'Schneide auf dem Daumennagel balanciert', 0.004545454545454545), (u'senkrecht', 0.004545454545454545), (u'Dabei werden mikroskopisch kleine H\\xe4rchen von', 0.004545454545454545), (u'17\\xa0Querschnittsbestandteile', 0.004545454545454545), (u'Begrenzung \\xfcberlappt', 0.004545454545454545), (u'Sie auf Punkte entlang der Kante', 0.004545454545454545), (u'der Mitte oder', 0.004545454545454545), (u'Sonne', 0.004545454545454545), (u'Tragende', 0.004545454545454545), (u'helles', 0.004545454545454545), (u'Knoten auf der Kante zwischen den beiden oberen Volumina', 0.004545454545454545), (u'(helllila) besitzt wie dargestellt', 0.004545454545454545), (u'Kante der Fahrspur', 0.004545454545454545), (u'Kante entlang der Erweiterung verschoben werden', 0.004545454545454545), (u'Breite der Bema\\xdfung bearbeiten', 0.004545454545454545), (u'Sie dann', 0.004545454545454545), (u'prim\\xe4ren Stra\\xdfe', 0.004545454545454545), (u'Falls Sie', 0.004545454545454545), (u'wieder zur\\xfcckziehen', 0.004545454545454545), (u'Bei seiner Methode zur Klingenpr\\xfcfung', 0.004545454545454545), (u'halten wir', 0.004545454545454545), (u'Alle verdeckten Linien f\\xfcr Plattenkanten anzeigen', 0.004545454545454545), (u'bis zum Rand', 0.004545454545454545), (u'breitet sich bis zum endg\\xfcltigen Versagen seitlich', 0.004545454545454545), (u'Die', 0.004545454545454545), (u'Kante eines', 0.004545454545454545), (u'} und', 0.004545454545454545), (u'gesamte Extrusionsrichtung gleichm\\xe4\\xdfig verl\\xe4uft', 0.004545454545454545), (u'Kante von Arbeitsebene1 aus', 0.004545454545454545)]\n",
      "CHUNK: people, top 5: [(u'herumlaufen werden', 0.015), (u'der', 0.015), (u'auf der Personen stehen', 0.015), (u'Ziehen Sie den Mauszeiger \\xfcber den Boden', 0.015), (u'i', 0.015), (u'Anschlie\\xdfend', 0.01), (u'so ziemlich das erste', 0.01), (u'sie zu sehen bekommen', 0.01), (u'der Liste der Personen ausw\\xe4hlen', 0.01), (u'zu dieser', 0.01), (u'Der Stil soll eine typische Gruppe von Personen darstellen', 0.01), (u'sind', 0.01), (u'Personen', 0.01), (u'Sie einen Kontakt', 0.01), (u'Sie', 0.01), (u'vom Eigent\\xfcmer der Zeichnung', 0.01), (u'Wenn sich', 0.01), (u'Flusses verlassen und', 0.005), (u'indem Sie zweimal', 0.005), (u'einem anderen erscheinen', 0.005), (u': {1}Howell:{2} Seien Sie bereit', 0.005), (u'Raum auf der Etage einem anderen', 0.005), (u'Leute damit zu beeindrucken', 0.005), (u'deaktiviert', 0.005), (u'nicht \\xfcber', 0.005), (u'Dies', 0.005), (u'Einfach ausgedr\\xfcckt geht', 0.005), (u'das Werkzeug', 0.005), (u'Wenn Sie', 0.005), (u'Schiffe', 0.005), (u'Flussbereichen bewegen und', 0.005), (u'{1}Analytische Informationen sammeln:{2} Wenn wir besser verstehen', 0.005), (u'Die Vision von Autodesk ist es', 0.005), (u'Klaren sein', 0.005), (u'Projekten', 0.005), (u'Wenn ein hungriger Hund viel davon frisst, kann', 0.005), (u'[] kennzeichnet {1}Pro{2}-spezifische Inhalte und ist nur f\\xfcr Personen verf\\xfcgbar', 0.005), (u'der Tabelle aus', 0.005), (u'Markieren von Personen', 0.005), (u'RPC-Elemente aus Revit-Modellen', 0.005), (u'Simulation', 0.005), (u'Fluss angezeigt', 0.005), (u'Gelegenheit', 0.005), (u'Schlagen Sie vor', 0.005), (u'wobei', 0.005), (u'wenn', 0.005), (u'Layer', 0.005), (u'Aber', 0.005), (u'die', 0.005), (u'\\xd6ffnet', 0.005)]\n",
      "CHUNK: problems, top 5: [(u'i', 0.021739130434782608), (u'der', 0.017391304347826087), (u'Dieses', 0.013043478260869565), (u'Dieses Service Pack behebt auch die', 0.013043478260869565), (u'Sie', 0.013043478260869565), (u'behebt', 0.013043478260869565), (u'durch Autodesk AutoCAD', 0.008695652173913044), (u'umfasst nicht', 0.008695652173913044), (u'Str\\xf6mung blockieren', 0.008695652173913044), (u'laminaren Bereiche', 0.008695652173913044), (u'lokalen Str\\xf6mungsgeschwindigkeiten verringern', 0.008695652173913044), (u'Dies', 0.008695652173913044), (u'senden Sie eine E-Mail', 0.008695652173913044), (u'm\\xf6glicherweise', 0.008695652173913044), (u'dass', 0.008695652173913044), (u'Problemen mit gro\\xdfen', 0.008695652173913044), (u'Wenn Sie auf Probleme sto\\xdfen', 0.008695652173913044), (u'den Begrenzungs-Layern', 0.008695652173913044), (u'Maustaste darauf klicken', 0.004347826086956522), (u'Datei zur Analyse \\xfcbermittelt wird', 0.004347826086956522), (u'dieser Version', 0.004347826086956522), (u'Programme keine der Befehle', 0.004347826086956522), (u'mit Problemen und der Ausf\\xfchrung von Aufgaben', 0.004347826086956522), (u'bei denen', 0.004347826086956522), (u'm\\xf6glicherweise nur mit einer ganzheitlichen Betrachtung des Projekts', 0.004347826086956522), (u'Probleme mit Freistrahl', 0.004347826086956522), (u'Modelle entwickeln', 0.004347826086956522), (u'geben Sie Ihren Anforderungscode sowie', 0.004347826086956522), (u'Wichtige Informationen zum Aufheben', 0.004347826086956522), (u'Wenn Probleme beim Laden', 0.004347826086956522), (u'Identifizieren Sie Probleme', 0.004347826086956522), (u'wurden oder nicht mehr unterst\\xfctzt werden', 0.004347826086956522), (u'erfordern daher eine', 0.004347826086956522), (u'Oracle 12cR1 ist', 0.004347826086956522), (u'das Pr\\xfcfprotokoll zur Fehlerbehebung verwenden', 0.004347826086956522), (u'Ansonsten kann es zu Problemen bei Materialzuweisung', 0.004347826086956522), (u'Computer au\\xdferhalb der', 0.004347826086956522), (u'entsprechenden Mengen im{3}Entwurf fehlen.{4}Eine Bauablaufsimulation', 0.004347826086956522), (u'mit Temperatur\\xe4nderungen ist m\\xf6glicherweise', 0.004347826086956522), (u'zur Erkennung von Problemen wie:{2}Vers\\xe4umnis', 0.004347826086956522), (u'fachbereichs\\xfcbergreifender BIM-Koordination', 0.004347826086956522), (u'Allerdings', 0.004347826086956522), (u'Aufgrund von ausf\\xfchrlichen Informationen', 0.004347826086956522), (u'Ausf\\xe4lle im Modell beeinflussen k\\xf6nnen', 0.004347826086956522), (u'Gr\\xf6\\xdfenbestimmung', 0.004347826086956522), (u'zeigt, dass Aushub \\xfcber noch nicht gebaute Strukturen bewegt wird.{5}Dies sind Dinge', 0.004347826086956522), (u'Support@autodesk.com{2} senden', 0.004347826086956522), (u'da', 0.004347826086956522), (u'pr\\xfcfen Sie', 0.004347826086956522), (u'Datei zur Analyse', 0.004347826086956522)]\n",
      "CHUNK: your design, top 5: [(u'der', 0.025), (u'Sie', 0.025), (u'i', 0.02), (u'Referenzierung nicht rechteckiger Modellfl\\xe4chen', 0.015), (u'beliebigen Formen erleichtert', 0.015), (u'Das Zuschneiden von Bereichen', 0.015), (u'Sie mit Alias Werkzeuge', 0.01), (u'Komplexit\\xe4t der Konstruktion oder', 0.01), (u'denselben Typ auch f\\xfcr bereits', 0.01), (u'Der Kunde zeigt Ihre Konstruktion', 0.01), (u'bestehenden Segmente und Formteile aus, und klicken Sie auf der Registerkarte \\xc4ndern auf', 0.01), (u'Dank der', 0.01), (u'nach Gr\\xf6\\xdfe', 0.01), (u'zu optimieren', 0.01), (u'Routing-Voreinstellungen\\xb7oder\\xb7die\\xb7\\ufffc{1}Einstellung Winkel unter HLS-Einstellungen{2}\\ufffc\\xb7\\xe4ndern', 0.01), (u'Ihrem Entwurf', 0.01), (u'Verwenden Sie', 0.01), (u'w\\xe4hlen Sie', 0.01), (u'Configurator', 0.01), (u'Entwurf \\xfcbernehmen', 0.01), (u'Ihrem Design hin', 0.005), (u'Simulationssoftware k\\xf6nnen Sie vor der Fertigung', 0.005), (u'einem Entwurf einzuf\\xfcgen', 0.005), (u'verwendet anschlie\\xdfend', 0.005), (u'Sie haben auch die', 0.005), (u'Bedingungen', 0.005), (u'Kommunizieren Sie Ihre Entw\\xfcrfe', 0.005), (u'Jetzt k\\xf6nnen Sie', 0.005), (u'Alias weist dieses Werkzeug zur Fl\\xe4chenbeurteilung auf Flecken mit gleicher Helligkeit', 0.005), (u'selbst', 0.005), (u'Ihren Entwurf erl\\xe4utern', 0.005), (u'Konstruktion zu animieren', 0.005), (u'Erstellen und variieren Sie Ihre Entw\\xfcrfe effizient', 0.005), (u'direkt als PDF-Datei plotten', 0.005), (u'Eigenschaften tempor\\xe4rer Ansichten erm\\xf6glichen Ihnen professionelle Entw\\xfcrfe', 0.005), (u'Abh\\xe4ngigkeit', 0.005), (u'Angenommen', 0.005), (u'Revit noch einfacher verwalten', 0.005), (u'Zum Erstellen von Videos', 0.005), (u'Dar\\xfcber', 0.005), (u'\\xdcberarbeitung von Dateien', 0.005), (u'beste L\\xf6sung f\\xfcr Sie', 0.005), (u'Pr\\xfcfen der Konstruktion', 0.005), (u'Funktionsweise eines Produkts unter', 0.005), (u'\\xc4nderungen hinzu', 0.005), (u'Eine typische Zeichnungsaktualisierung beginnt mit dem Auschecken einer Konstruktion aus dem Tresor', 0.005), (u'Der Kunde konfiguriert Ihre Konstruktion', 0.005), (u'der Zeichnung zuordnen', 0.005), (u'CAD Design-Geopositionsfunktionen reale Umgebungen', 0.005), (u'Ihre Konstruktion', 0.005)]\n",
      "CHUNK: the BOM, top 5: [(u'der', 0.06880733944954129), (u'der St\\xfcckliste', 0.03669724770642202), (u'Werte der einzelnen Positionen', 0.022935779816513763), (u'Sie', 0.022935779816513763), (u'das h\\xf6her ist als', 0.01834862385321101), (u'St\\xfcckliste', 0.01834862385321101), (u'Rollup-Berechnung', 0.013761467889908258), (u'Revision', 0.013761467889908258), (u'der St\\xfcckliste angezeigten Werten unterscheidet', 0.013761467889908258), (u'von den', 0.013761467889908258), (u'dass', 0.013761467889908258), (u'Wenn', 0.013761467889908258), (u'Rollup', 0.009174311926605505), (u'der Ausgangswert beispielsweise von der', 0.009174311926605505), (u'Anzeigen der St\\xfcckliste', 0.009174311926605505), (u'Wenn Sie', 0.009174311926605505), (u'Datum ausw\\xe4hlen', 0.009174311926605505), (u'identifiziert das System', 0.009174311926605505), (u'ein Feld als', 0.009174311926605505), (u'Wenn der Ausgangswert beispielsweise von der Registerkarte', 0.009174311926605505), (u'oder Sie m\\xf6chten sich', 0.009174311926605505), (u'erl\\xe4utert', 0.009174311926605505), (u'Findet', 0.009174311926605505), (u'und konfiguriert', 0.009174311926605505), (u'Das Symbol wird mit einer QuickInfo angezeigt', 0.009174311926605505), (u'dem', 0.009174311926605505), (u'f\\xfchrte', 0.009174311926605505), (u'w\\xe4hlen Sie', 0.009174311926605505), (u'wird eine Funktion', 0.009174311926605505), (u'angewendet', 0.009174311926605505), (u'sind oder ein \\xfcbergeordneter Wert', 0.009174311926605505), (u'Beispielsweise wurde', 0.0045871559633027525), (u'kleinste Zahl', 0.0045871559633027525), (u'das Feld aus der St\\xfcckliste oder auf der Seite Artikeldetails aus, dessen Wert i', 0.0045871559633027525), (u'Eine St\\xfcckliste mit eindeutigen Ebenen-', 0.0045871559633027525), (u'Datentyp gesucht', 0.0045871559633027525), (u'1}Validierungen und Abh\\xe4ngigkeiten ignorieren', 0.0045871559633027525), (u'Wenn Sie eine', 0.0045871559633027525), (u'Rollup-Felder erm\\xf6glichen', 0.0045871559633027525), (u'G\\xfcltigkeit verwenden', 0.0045871559633027525), (u'der aktuell ausgew\\xe4hlten Artikelrevision liegt, identifiziert das System', 0.0045871559633027525), (u'Beispielsweise', 0.0045871559633027525), (u'Vor dem Import der St\\xfcckliste werden', 0.0045871559633027525), (u'Revision der einzelnen Artikel', 0.0045871559633027525), (u'St\\xfcckliste auf der Registerkarte', 0.0045871559633027525), (u'eine oder', 0.0045871559633027525), (u'sie', 0.0045871559633027525), (u'Wenn das Datum', 0.0045871559633027525), (u'w\\xe4hlt rekursiv', 0.0045871559633027525), (u'anderen Eingabefelds', 0.0045871559633027525)]\n",
      "CHUNK: fiber failure, top 5: [(u'Wenn', 0.03187250996015936), (u'Faser hat versagt', 0.01593625498007968), (u'immer aktualisiert', 0.01593625498007968), (u'energiebasierte Degradation aktiviert ist', 0.01593625498007968), (u'Anzahl der Zyklen bis zum Versagen auf den Wert bei Faserversagen gesetzt', 0.01593625498007968), (u'sei denn', 0.01593625498007968), (u'diesem Fall wird', 0.01593625498007968), (u'i', 0.01593625498007968), (u'sodass die roten Elemente', 0.01593625498007968), (u'Dieser Wert', 0.01593625498007968), (u'allen Garnen', 0.01195219123505976), (u'als', 0.00796812749003984), (u'allen Verbundlagen unter', 0.00796812749003984), (u'Das hei\\xdft', 0.00796812749003984), (u'Tritt jedoch ein Faserversagen auf', 0.00796812749003984), (u'Steifheit der Faserkonstituente dieselbe', 0.00796812749003984), (u'dem Verbundspannungszustand bei Faserversagen', 0.00796812749003984), (u'Genau', 0.00796812749003984), (u'gesagt werden', 0.00796812749003984), (u'Spektrum', 0.00796812749003984), (u'roten Elemente entsprechen dem Matrixversagen', 0.00796812749003984), (u'dieser Energie', 0.00796812749003984), (u'durch', 0.00796812749003984), (u'Grenzwerte von Abaqus automatisch auf einen Wertebereich von', 0.00796812749003984), (u'Faserversagen statt dem Matrixversagen entsprechen', 0.00796812749003984), (u'bleibt', 0.00796812749003984), (u'bis 2 angepasst und', 0.00796812749003984), (u'Anders ausgedr\\xfcckt', 0.00796812749003984), (u'Wenn es z. B.', 0.00796812749003984), (u'Auswirkung des Faserausfalls auf', 0.00796812749003984), (u'der', 0.00796812749003984), (u'dass', 0.00796812749003984), (u'dem Elementvolumen', 0.00796812749003984), (u'Faserfehler', 0.00796812749003984), (u'Aber bei einem Faserfehler wird der Bereich auf', 0.00796812749003984), (u'Verbundwerkstoff', 0.00796812749003984), (u'f\\xfcr den', 0.00796812749003984), (u'es gibt', 0.00398406374501992), (u'Bei positiver transversaler Normalspannung', 0.00398406374501992), (u'bietet', 0.00398406374501992), (u'dem Spannungszustand des Verbundwerkstoffs bei Matrixausfall', 0.00398406374501992), (u'Bei positiver l\\xe4ngsseitiger Normalspannung', 0.00398406374501992), (u'Verbundwerkstoffe {1}, {2}, {3}, {4} und {5} zerfallen nach einem Matrixausfallereignis entsprechend dieser Energie', 0.00398406374501992), (u'gr\\xf6\\xdfer als', 0.00398406374501992), (u'SVAR1-Wert', 0.00398406374501992), (u'Der Faserausfall hingegen wird als isotropes Ereignis betrachtet', 0.00398406374501992), (u'Faserausfall aufgetreten ist', 0.00398406374501992), (u'den Faserausfall ein', 0.00398406374501992), (u'Versagen ist', 0.00398406374501992), (u'Andernfalls', 0.00398406374501992)]\n"
     ]
    }
   ],
   "source": [
    "for src_chunk, prior in src_priors.items()[300:310]:\n",
    "    print(u'CHUNK: {}, top 5: {}'.format(src_chunk, src_posteriors[src_chunk].items()[:50]))"
   ]
  },
  {
   "cell_type": "code",
   "execution_count": 30,
   "metadata": {
    "collapsed": false
   },
   "outputs": [
    {
     "data": {
      "text/plain": [
       "[(u'who', 0.0019538882375928096),\n",
       " (u'order', 0.0019445840078899867),\n",
       " (u'the ribbon', 0.0019445840078899867),\n",
       " (u'use', 0.0019352797781871638),\n",
       " (u'the part', 0.001925975548484341),\n",
       " (u'a drawing', 0.0018794543999702264),\n",
       " (u'addition', 0.0018701501702674036),\n",
       " (u'BIM', 0.0018422374811589348),\n",
       " (u'Select', 0.001823629021753289),\n",
       " (u'the name', 0.0018050205623476433),\n",
       " (u'the design', 0.0017957163326448203),\n",
       " (u'a file', 0.0017957163326448203),\n",
       " (u'insulation', 0.0017212824950222372),\n",
       " (u'the top', 0.0017119782653194143),\n",
       " (u'(100 mm', 0.0017026740356165912),\n",
       " (u'the flow', 0.0016747613465081226),\n",
       " (u'models', 0.0016747613465081226),\n",
       " (u'the display', 0.0016747613465081226),\n",
       " (u'Autodesk Inventor', 0.0016654571168052998),\n",
       " (u'design', 0.001637544427696831),\n",
       " (u'features', 0.001628240197994008),\n",
       " (u'InfraWorks', 0.0015072852118573103),\n",
       " (u'the command', 0.0014979809821544874),\n",
       " (u'materials', 0.0014979809821544874),\n",
       " (u'an object', 0.0014793725227488417),\n",
       " (u'the installation', 0.0014607640633431957),\n",
       " (u'the right', 0.0014514598336403729),\n",
       " (u'the surface', 0.0014235471445319043),\n",
       " (u'They', 0.0014142429148290812),\n",
       " (u'items', 0.0013956344554234355),\n",
       " (u'the dialog box', 0.0013863302257206126),\n",
       " (u'failure', 0.0013863302257206126),\n",
       " (u'installation', 0.0013863302257206126),\n",
       " (u'drawings', 0.0013770259960177898),\n",
       " (u'AutoCAD Civil 3D', 0.0013770259960177898),\n",
       " (u'the ability', 0.001349113306909321),\n",
       " (u'file', 0.0013305048475036752),\n",
       " (u'Simulation CFD', 0.0013212006178008522),\n",
       " (u'Autodesk Vault', 0.0013212006178008522),\n",
       " (u'the product', 0.0013118963880980293),\n",
       " (u'geometry', 0.0013118963880980293),\n",
       " (u'the bottom', 0.0013118963880980293),\n",
       " (u'the left', 0.0013118963880980293),\n",
       " (u'elements', 0.0013025921583952064),\n",
       " (u'components', 0.0013025921583952064),\n",
       " (u'a project', 0.0012932879286923836),\n",
       " (u'your model', 0.0012839836989895607),\n",
       " (u'the device', 0.0012839836989895607),\n",
       " (u'the user', 0.0012746794692867379),\n",
       " (u'Service Pack', 0.0012653752395839148)]"
      ]
     },
     "execution_count": 30,
     "metadata": {},
     "output_type": "execute_result"
    }
   ],
   "source": [
    "src_priors.items()[50:100]"
   ]
  },
  {
   "cell_type": "code",
   "execution_count": null,
   "metadata": {
    "collapsed": true
   },
   "outputs": [],
   "source": [
    "dedupe\n",
    "\n",
    "no_dup_sources = []\n",
    "no_dup_refs = []"
   ]
  },
  {
   "cell_type": "code",
   "execution_count": null,
   "metadata": {
    "collapsed": true
   },
   "outputs": [],
   "source": [
    "shuffle jointly, then split into train test\n"
   ]
  },
  {
   "cell_type": "code",
   "execution_count": 4,
   "metadata": {
    "collapsed": false
   },
   "outputs": [
    {
     "name": "stdout",
     "output_type": "stream",
     "text": [
      "The NVIDIA® iray® renderer now supports the NVIDIA® Kepler chipset.Die NVIDIA ® iray ® Renderer unterstützt jetzt die NVIDIA ® Kepler Chipsatz.Der NVIDIA® iray®-Renderer bietet nun Unterstützung für den Chipsatz NVIDIA® Kepler.3DSMAX2013MT0.000362012/11/13 00:13:54◊÷\n"
     ]
    }
   ],
   "source": [
    "print(autodesk_rows[0])"
   ]
  },
  {
   "cell_type": "code",
   "execution_count": 3,
   "metadata": {
    "collapsed": false
   },
   "outputs": [
    {
     "data": {
      "text/plain": [
       "[u'The NVIDIA\\xae iray\\xae renderer now supports the NVIDIA\\xae Kepler chipset.\\uf8ffDie NVIDIA \\xae iray \\xae Renderer unterst\\xfctzt jetzt die NVIDIA \\xae Kepler Chipsatz.\\uf8ffDer NVIDIA\\xae iray\\xae-Renderer bietet nun Unterst\\xfctzung f\\xfcr den Chipsatz NVIDIA\\xae Kepler.\\uf8ff3DSMAX\\uf8ff2013\\uf8ffMT\\uf8ff0.000\\uf8ff36\\uf8ff\\uf8ff2012/11/13 00:13:54\\uf8ff\\u25ca\\xf7',\n",
       " u'{1}Home tab{2}Modify panel {3}> Draworder flyout{4}.\\uf8ff{1}Registerkarte Start{2}Gruppe \\xc4ndern {3}> Flyout Zeichnungsreihenfolge{4}.\\uf8ff{1}Registerkarte Start{2}Gruppe \\xc4ndern {3}> Flyout Zeichnungsreihenfolge{4}.\\uf8ffACD\\uf8ff2014\\uf8ffMT\\uf8ff0.074\\uf8ff70\\uf8ff<phs><ph id=\"1\">&lt;menucascade id=&quot;GUID-9206B026-680D-4738-8931-1F0F6D54CB36&quot;&gt; &lt;uicontrol id=&quot;GUID-3B7B95A6-B68E-40CD-9670-D0298139ABEF&quot;&gt;</ph><ph id=\"2\">&lt;/uicontrol&gt; &lt;uicontrol id=&quot;GUID-DDBA3BDC-A9DA-49FE-9C08-4FBDD5CC200E&quot;&gt;</ph><ph id=\"3\">&lt;/uicontrol&gt; &lt;/menucascade&gt; &lt;glyph type=&quot;Arrow&quot; id=&quot;GUID-0EDA2621-2439-4D3E-9EF7-B95261449F86&quot; /&gt;&lt;glyph type=&quot;panel_expander&quot; id=&quot;GUID-E13C2A2B-24EF-49F5-B84E-E4BDCE1724B6&quot; /&gt; &lt;menucascade id=&quot;GUID-0363DB41-CA1E-40F4-A8D7-2E1522146B7E&quot;&gt; &lt;uicontrol id=&quot;GUID-34F09A89-71DF-472C-A4F1-D217CB8427D1&quot;&gt;</ph><ph id=\"4\">&lt;/uicontrol&gt; &lt;/menucascade&gt;</ph></phs>\\uf8ff2012/11/19 19:18:17\\uf8ff\\u25ca\\xf7',\n",
       " u'From the drop-down list, choose one of the options.\\uf8ffaus der Dropdown-Liste auflisten, w\\xe4hlen Sie eine der Optionen aus.\\uf8ffW\\xe4hlen Sie in der Dropdown-Liste eine der Optionen aus.\\uf8ffACD\\uf8ff2014\\uf8ffMT\\uf8ff0.000\\uf8ff69\\uf8ff\\uf8ff2012/11/19 19:18:17\\uf8ff\\u25ca\\xf7']"
      ]
     },
     "execution_count": 3,
     "metadata": {},
     "output_type": "execute_result"
    }
   ],
   "source": [
    "autodesk_rows[:3]"
   ]
  },
  {
   "cell_type": "code",
   "execution_count": null,
   "metadata": {
    "collapsed": true
   },
   "outputs": [],
   "source": []
  }
 ],
 "metadata": {
  "kernelspec": {
   "display_name": "Python 2",
   "language": "python",
   "name": "python2"
  },
  "language_info": {
   "codemirror_mode": {
    "name": "ipython",
    "version": 2
   },
   "file_extension": ".py",
   "mimetype": "text/x-python",
   "name": "python",
   "nbconvert_exporter": "python",
   "pygments_lexer": "ipython2",
   "version": "2.7.12"
  }
 },
 "nbformat": 4,
 "nbformat_minor": 0
}
